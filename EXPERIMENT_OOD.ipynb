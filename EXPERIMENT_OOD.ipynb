{
 "cells": [
  {
   "cell_type": "markdown",
   "metadata": {},
   "source": [
    "NUOVA"
   ]
  },
  {
   "cell_type": "code",
   "execution_count": 38,
   "metadata": {},
   "outputs": [],
   "source": [
    "# Import the necessary functions\n",
    "import logging\n",
    "# Set the logging level to WARNING to suppress INFO messages\n",
    "logging.basicConfig(level=logging.WARNING)\n",
    "import transformers\n",
    "\n",
    "#logging.set_verbosity_error()\n",
    "# Disable specific warnings\n",
    "transformers.logging.set_verbosity_error()\n",
    "from inference_utils import load_model_and_tokenizer, generate_predictions, setup_device\n",
    "import json #, jsonlines\n",
    "\n",
    "from transformers import GPT2Config, GPT2LMHeadModel, GPT2Tokenizer\n",
    "import torch\n",
    "\n",
    "from tqdm import tqdm"
   ]
  },
  {
   "cell_type": "code",
   "execution_count": 2,
   "metadata": {},
   "outputs": [],
   "source": [
    "# Define the model path\n",
    "MODEL_PATH =\"/dtu-compute/s220331/composition/outputs_BIG_new/checkpoint-1500000/\"\n",
    "# \"/scratch/davide/model_paper/outputs_SMALL_sharing/checkpoint-1500000/\" #\"/scratch/davide/model_paper/outputs_OOD_MODIFIED_composition_SMALL.200.20.18.0/checkpoint-350000/\"\n",
    "\n",
    "# Load the model and tokenizer\n",
    "model_1, tokenizer_1 = load_model_and_tokenizer(MODEL_PATH)\n",
    "\n",
    "# Setup the device\n",
    "device = setup_device()\n",
    "model_1.to(device)\n",
    "\n",
    "# Prepare the input data for prediction\n",
    "input_texts = [\"<e_0><r_14><r_6>\"]\n",
    "\n",
    "# Define the parameters for generation\n",
    "max_length = 10  # Adjust the max_length as needed\n",
    "num_return_sequences = 1  # Adjust the number of return sequences\n",
    "\n",
    "# Generate predictions\n",
    "#predictions = generate_predictions(model, tokenizer, input_texts, device, max_length=max_length, num_return_sequences=num_return_sequences)\n",
    "def predict(model, tokenizer, input_texts, device, max_length=max_length, num_return_sequences=num_return_sequences):\n",
    "    predictions = generate_predictions(model, tokenizer, input_texts, device, max_length=max_length, num_return_sequences=num_return_sequences)\n",
    "    # Print the predictions\n",
    "    for i, prediction in enumerate(predictions):\n",
    "        print(f\"Input: {input_texts[i]}\")\n",
    "        print(f\"Prediction: {prediction}\")"
   ]
  },
  {
   "cell_type": "code",
   "execution_count": 39,
   "metadata": {},
   "outputs": [],
   "source": [
    "# To chose the \"B\" that compare 2 times both in ID and OOD**\n",
    "def chose_B(range_):\n",
    "    count=0\n",
    "    for i in range(range_):\n",
    "        target = f'<e_{i}></a>'\n",
    "        t_print=f'<e_{i}>'\n",
    "        filtered_texts = [entry['target_text'] for entry in d['id_atomic'] if entry['target_text'].endswith(target)]\n",
    "\n",
    "        filtered_texts_OOD = [entry['target_text'] for entry in d['ood_atomic'] if entry['target_text'].endswith(target)]\n",
    "        if count <=3:\n",
    "            if len(filtered_texts) >= 2 and len(filtered_texts_OOD) >= 2:\n",
    "\n",
    "                filtered_texts_2_hop = [entry['target_text'] for entry in d['id_atomic'] if entry['target_text'].startswith(t_print)]\n",
    "\n",
    "                filtered_texts_OOD_2_hop = [entry['target_text'] for entry in d['ood_atomic'] if entry['target_text'].startswith(t_print)]\n",
    "\n",
    "                # Extract the part before <e_57></a> from the first element\n",
    "                #atomic_part_1_id = filtered_texts[0].split(target)[0]\n",
    "                #print(\"atomic_id\", atomic_part_1_id)\n",
    "                #atomic_part_1_ood = str(filtered_texts_OOD[0].split(target)[0])\n",
    "\n",
    "                #inferred_OOD = [entry['target_text'] for entry in d['test_inferred_ood']\n",
    "                #                    if entry['type'] == 'test_inferred_ood' and entry['input_text'].startswith(atomic_part_1_ood)]\n",
    "\n",
    "                #inferred_ID = [entry['target_text'] for entry in d['test_inferred_iid']\n",
    "                #                    if entry['type'] == 'test_inferred_iid' and entry['input_text'].startswith(atomic_part_1_id)]\n",
    "\n",
    "                if len(filtered_texts_2_hop) >= 1 and len(filtered_texts_OOD_2_hop) >= 1:\n",
    "                    print(\"-------Target :\", t_print,  \"     ----------------------------------------------------------\\n\")\n",
    "                    print(\"ID\",filtered_texts   ,\"\\n\")\n",
    "                    print(\"OOD\",filtered_texts_OOD   ,\"\\n \\n\")\n",
    "\n",
    "                    #print(\"Inferred _ ID\", inferred_ID)\n",
    "                    #print(\"Inferred _ OOD\", inferred_OOD)\n",
    "                    # for the second hop\n",
    "\n",
    "                    count+=1\n",
    "                    print(\"2- hop  ID\", filtered_texts_2_hop)\n",
    "                    print(\"2nd hop OOD\", filtered_texts_OOD_2_hop, \"\\n \\n \\n\")\n"
   ]
  },
  {
   "cell_type": "code",
   "execution_count": 40,
   "metadata": {},
   "outputs": [],
   "source": [
    "def return_rank(hd, word_embedding_, token, metric='dot', token_list=None):\n",
    "    \"\"\"\n",
    "hd: Hidden states or output from a neural network.\n",
    "word_embedding_: Embedding matrix for words. (matrix that convert words to their embedding representation)\n",
    "token: The specific token (word) for which we want to find the rank.\n",
    "metric: The similarity metric to use ('dot' for dot product, 'cos' for cosine similarity).\n",
    "token_list: Optional list of tokens to consider for ranking.\"\"\"\n",
    "\n",
    "    if metric == 'dot':\n",
    "        word_embedding = word_embedding_\n",
    "    elif metric == 'cos':\n",
    "        word_embedding = F.normalize(word_embedding_, p=2, dim=1)\n",
    "    else:\n",
    "        assert False\n",
    "    #Compute the similarity scores (logits) between the hidden states (hd) and the word embeddings using matrix multiplication.\n",
    "    logits_ = torch.matmul(hd, word_embedding.T)  # a vlaue higher if he similarity with the analyzed \"word\" is higehr\n",
    "\n",
    "    rank = [] \n",
    "    for j in range(len(logits_)):\n",
    "        log = logits_[j].cpu().numpy()\n",
    "        if token_list is None:\n",
    "            temp = [[i, log[i]] for i in range(len(log))]\n",
    "        else:\n",
    "            temp = [[i, log[i]] for i in token_list]\n",
    "        temp.sort(key=lambda var: var[1], reverse=True)\n",
    "        rank.append([var[0] for var in temp].index(token))\n",
    "    return rank\n"
   ]
  },
  {
   "cell_type": "markdown",
   "metadata": {},
   "source": [
    "#  \"Normal case \" \n",
    "<e_172>  comes from two different inputs eg:\n",
    "> <e_12><r_5>            -->   <e_172>\n",
    " \n",
    "> <e_1><r_3>            -->   <e_172>\n",
    "\n",
    "\n",
    "1) Compute the Difference Vector: \n",
    "**\\text{vector\\_sub}** = \\text{<e_172>}_{first case}} - \\text{<e_172>}_{second case}}\n",
    "\n",
    "2) Subtract the Difference Vector: \\text{cleaned\\_vector} = \\text{<e_172>} - **\\text{vector\\_sub}**"
   ]
  },
  {
   "cell_type": "code",
   "execution_count": 57,
   "metadata": {},
   "outputs": [],
   "source": [
    "#dataset = \"/home/s220331/GROK/Thesis/data/composition_SMALL.200.20.12.6\"\n",
    "dataset=\"/home/s220331/GROK/Thesis/data/composition.2000.200.12.6\"\n",
    "model_path = \"/scratch/davide/model_paper/outputs_SMALL/checkpoint-1500000/\" # model normal on small dataset wuth chosen checkpoints!\n",
    "\n",
    "target_layer = 8"
   ]
  },
  {
   "cell_type": "code",
   "execution_count": 58,
   "metadata": {},
   "outputs": [
    {
     "name": "stderr",
     "output_type": "stream",
     "text": [
      "100%|██████████| 518800/518800 [00:00<00:00, 1475143.56it/s]\n",
      "100%|██████████| 518800/518800 [00:01<00:00, 420077.11it/s]\n"
     ]
    },
    {
     "name": "stdout",
     "output_type": "stream",
     "text": [
      "# id_atomic, # ood_atomic: 38000 2000\n"
     ]
    }
   ],
   "source": [
    "\n",
    "\n",
    "# set data\n",
    "\n",
    "all_atomic = set()     # (h,r,t)\n",
    "atomic_dict = dict()   # (h,r) -> t\n",
    "with open(dataset+\"/train.json\") as f:  # from the correct data or data_MIO !!!\n",
    "    train_items = json.load(f)\n",
    "for item in tqdm(train_items):\n",
    "    temp = item['target_text'].strip(\"><\").split(\"><\")\n",
    "    if len(temp) != 4:\n",
    "        continue\n",
    "    h,r,t = temp[:3]\n",
    "    atomic_dict[(h,r)] = t\n",
    "    all_atomic.add((h,r,t))\n",
    "\n",
    "id_atomic = set()\n",
    "for item in tqdm(train_items):\n",
    "    temp = item['target_text'].strip(\"><\").split(\"><\")\n",
    "    if len(temp) == 4:\n",
    "        continue\n",
    "    h, r1, r2, t = temp[:4]\n",
    "    b = atomic_dict[(h, r1)]\n",
    "    assert atomic_dict[(b, r2)] == t\n",
    "    id_atomic.add((h,r1,b))\n",
    "    id_atomic.add((b,r2,t))\n",
    "\n",
    "ood_atomic = all_atomic - id_atomic\n",
    "print(\"# id_atomic, # ood_atomic:\", len(id_atomic), len(ood_atomic))\n",
    "\n",
    "# smart way to save all the train\n",
    "with open(dataset+\"/test.json\") as f:\n",
    "    pred_data = json.load(f)\n",
    "d = dict()\n",
    "for item in pred_data:\n",
    "    t = item['type']\n",
    "    if t not in d:\n",
    "        d[t] = []\n",
    "    d[t].append(item)"
   ]
  },
  {
   "cell_type": "code",
   "execution_count": 7,
   "metadata": {},
   "outputs": [],
   "source": [
    "# model set up\n",
    "#device = torch.device('cuda:5')\n",
    "device = setup_device()\n",
    "model = GPT2LMHeadModel.from_pretrained(model_path).to(device)\n",
    "word_embedding = model.lm_head.weight.data\n",
    "tokenizer = GPT2Tokenizer.from_pretrained(model_path)\n",
    "tokenizer.padding_side = \"left\" \n",
    "tokenizer.pad_token = tokenizer.eos_token\n",
    "tokenizer.pad_token_id = tokenizer.eos_token_id\n",
    "model.config.pad_token_id = model.config.eos_token_id"
   ]
  },
  {
   "cell_type": "markdown",
   "metadata": {},
   "source": [
    "**To chose the \"B\" that compare 2 times both in ID and OOD**"
   ]
  },
  {
   "cell_type": "code",
   "execution_count": 59,
   "metadata": {},
   "outputs": [
    {
     "name": "stdout",
     "output_type": "stream",
     "text": [
      "-------Target : <e_18>      ----------------------------------------------------------\n",
      "\n",
      "ID ['<e_1826><r_67><e_18></a>', '<e_467><r_133><e_18></a>'] \n",
      "\n",
      "OOD ['<e_1380><r_34><e_18></a>', '<e_749><r_76><e_18></a>'] \n",
      " \n",
      "\n",
      "2- hop  ID ['<e_18><r_158><e_674></a>', '<e_18><r_166><e_1282></a>', '<e_18><r_165><e_883></a>', '<e_18><r_162><e_335></a>']\n",
      "2nd hop OOD ['<e_18><r_131><e_481></a>', '<e_18><r_119><e_1389></a>'] \n",
      " \n",
      " \n",
      "\n",
      "-------Target : <e_25>      ----------------------------------------------------------\n",
      "\n",
      "ID ['<e_1192><r_127><e_25></a>', '<e_1858><r_169><e_25></a>', '<e_589><r_20><e_25></a>'] \n",
      "\n",
      "OOD ['<e_278><r_109><e_25></a>', '<e_1588><r_196><e_25></a>'] \n",
      " \n",
      "\n",
      "2- hop  ID ['<e_25><r_161><e_323></a>', '<e_25><r_196><e_179></a>']\n",
      "2nd hop OOD ['<e_25><r_163><e_958></a>'] \n",
      " \n",
      " \n",
      "\n",
      "-------Target : <e_68>      ----------------------------------------------------------\n",
      "\n",
      "ID ['<e_1405><r_128><e_68></a>', '<e_1314><r_160><e_68></a>'] \n",
      "\n",
      "OOD ['<e_1342><r_181><e_68></a>', '<e_915><r_91><e_68></a>'] \n",
      " \n",
      "\n",
      "2- hop  ID ['<e_68><r_44><e_1145></a>']\n",
      "2nd hop OOD ['<e_68><r_118><e_1272></a>'] \n",
      " \n",
      " \n",
      "\n",
      "-------Target : <e_70>      ----------------------------------------------------------\n",
      "\n",
      "ID ['<e_1821><r_159><e_70></a>', '<e_572><r_94><e_70></a>'] \n",
      "\n",
      "OOD ['<e_351><r_114><e_70></a>', '<e_1200><r_94><e_70></a>'] \n",
      " \n",
      "\n",
      "2- hop  ID ['<e_70><r_187><e_298></a>']\n",
      "2nd hop OOD ['<e_70><r_112><e_1840></a>', '<e_70><r_57><e_66></a>', '<e_70><r_94><e_1761></a>', '<e_70><r_131><e_811></a>'] \n",
      " \n",
      " \n",
      "\n"
     ]
    }
   ],
   "source": [
    "chose_B(199)\n"
   ]
  },
  {
   "cell_type": "code",
   "execution_count": 9,
   "metadata": {},
   "outputs": [
    {
     "name": "stdout",
     "output_type": "stream",
     "text": [
      "b: e_11\n",
      "tail: e_88\n"
     ]
    }
   ],
   "source": [
    "# we can set   h, r_1 , r_2 manually here  (and get also the b  and t entities connected)\n",
    "#------Target : <e_11>      ----------------------------------------------------------\n",
    "\n",
    "#ID ['<e_150><r_11><e_11></a>', '<e_140><r_19><e_11></a>', '<e_128><r_3><e_11></a>'] \n",
    "\n",
    "#OOD ['<e_147><r_4><e_11></a>', '<e_9><r_16><e_11></a>'] \n",
    "\n",
    "#2nd hop id ['<e_11><r_11><e_88></a>']\n",
    "#2 nd hop  OOD ['<e_11><r_1><e_141></a>']   \n",
    "\n",
    "query = \"<e_140><r_19><r_11>\"      # the inferred chosen (by combining the ID and 2nd hop)\n",
    "h,n_r,r = query.strip(\"><\").split(\"><\") #\"e_140\",\"r_19\",\"r_11\"             #query.strip(\"><\").split(\"><\")\n",
    "b = atomic_dict[(h, n_r)]\n",
    "t = atomic_dict[(b, r)]\n",
    "\n",
    "print(\"b:\",b)\n",
    "print(\"tail:\",t)"
   ]
  },
  {
   "cell_type": "markdown",
   "metadata": {},
   "source": [
    "\n",
    "**Now we tokenize the query** and extract:\n",
    ">id of the tokenized query \n",
    "and\n",
    "\n",
    "> attention mask"
   ]
  },
  {
   "cell_type": "code",
   "execution_count": 10,
   "metadata": {},
   "outputs": [],
   "source": [
    "# Tokenizing the Query:\n",
    "decoder_temp = tokenizer([query], return_tensors=\"pt\", padding=True)\n",
    "decoder_input_ids, decoder_attention_mask = decoder_temp[\"input_ids\"], decoder_temp[\"attention_mask\"]\n",
    "decoder_input_ids, decoder_attention_mask = decoder_input_ids.to(device), decoder_attention_mask.to(device)"
   ]
  },
  {
   "cell_type": "markdown",
   "metadata": {},
   "source": [
    "**Model Inference**\n",
    "\n",
    "Here, the model processes the tokenized input without computing gradients (torch.no_grad()), which is useful for inference to save memory and computation. The model outputs include hidden states from all layers because output_hidden_states=True."
   ]
  },
  {
   "cell_type": "code",
   "execution_count": 11,
   "metadata": {},
   "outputs": [
    {
     "name": "stdout",
     "output_type": "stream",
     "text": [
      "Alpha scaling not found in config. Defaulting to alpha = 1.0\n"
     ]
    }
   ],
   "source": [
    "with torch.no_grad():\n",
    "    outputs = model(\n",
    "        input_ids=decoder_input_ids,\n",
    "        attention_mask=decoder_attention_mask,\n",
    "        output_hidden_states=True\n",
    "    )\n",
    "all_hidden_states = outputs['hidden_states']"
   ]
  },
  {
   "cell_type": "markdown",
   "metadata": {},
   "source": [
    "Ranking Calculation\n",
    "In the dictionary **rest_di**c with the key (=\"rank_before\"), is stored the **rank** of the given **t**t (tail).\n",
    "\n",
    " This means basically that by projecting the hidden state at the chosen layer, the **t** is in the n position (rank).\n",
    "\n",
    "> eg:  0= Is the most probable (=chosen) output token  (rank in first position)\n"
   ]
  },
  {
   "cell_type": "markdown",
   "metadata": {},
   "source": [
    "The **[-2]** indicates that we are taking in consideration the 2ns last input tokwn (e,**r_1**,r_2)\n",
    "\n",
    "We use -1 normally to  inspectionate the tail, -2 for the **b** bridge entity\n",
    "\n",
    "return_rank(all_hidden_states[target_layer][0, :, :], word_embedding, tokenizer(\"<\"+b+\">\")['input_ids'][0])**[-2]**\n"
   ]
  },
  {
   "cell_type": "code",
   "execution_count": 12,
   "metadata": {},
   "outputs": [
    {
     "data": {
      "text/plain": [
       "{'rank_before': 0}"
      ]
     },
     "execution_count": 12,
     "metadata": {},
     "output_type": "execute_result"
    }
   ],
   "source": [
    "target_layer_tail = 8\n",
    "res_dict_tail = dict()\n",
    "#<r_11>\n",
    "\n",
    "rank_before = return_rank(all_hidden_states[target_layer_tail][0, :, :], word_embedding, tokenizer(\"<\"+t+\">\")['input_ids'][0])[-1]\n",
    "res_dict_tail['rank_before'] = rank_before\n",
    "res_dict_tail"
   ]
  },
  {
   "cell_type": "code",
   "execution_count": 13,
   "metadata": {},
   "outputs": [
    {
     "name": "stdout",
     "output_type": "stream",
     "text": [
      "Rabk B should be 0: {'rank_before': 0}\n"
     ]
    }
   ],
   "source": [
    "res_dict_b = dict()\n",
    "target_layer_b = 5\n",
    "# (\"<\"+ b +\">\")  is just for reconstructing (\"<b>\") from \"b\"\n",
    "rank_before = return_rank(all_hidden_states[target_layer_b][0, :, :], word_embedding, tokenizer(\"<\"+ b +\">\")['input_ids'][0])[-2]\n",
    "res_dict_b['rank_before'] = rank_before\n",
    "print(\"Rabk B should be 0:\",res_dict_b)"
   ]
  },
  {
   "cell_type": "markdown",
   "metadata": {},
   "source": [
    "Now we want to use the same model but insert a different input (a,r,b)  instead of (a*,r*,b).\n",
    "\n",
    "The idea is to see if the b found in 4th state in this case, if inserted in the 4th, state of the normal run, if it will change the prediction."
   ]
  },
  {
   "cell_type": "code",
   "execution_count": 14,
   "metadata": {},
   "outputs": [
    {
     "name": "stdout",
     "output_type": "stream",
     "text": [
      "b: e_32\n",
      "tail: e_135\n",
      "Alpha scaling not found in config. Defaulting to alpha = 1.0\n",
      " B 1_id {'rank_before': 147}\n"
     ]
    }
   ],
   "source": [
    "query_change_id = \"<e_128><r_6><r_11>\"#this is changed with different \"B\" and \"t\"    # 2 hop <e_11><r_11><e_88>\n",
    "# era \"<e_128><r_3><r_11>\" oggi\n",
    "# this only is oood <e_147><r_4>\n",
    "\n",
    "\n",
    "h_1_id,n_r_1_id,r_1_id = query_change_id.strip(\"><\").split(\"><\") #\"e_140\",\"r_19\",\"r_11\"             #query.strip(\"><\").split(\"><\")\n",
    "b_1_id = atomic_dict[(h_1_id ,n_r_1_id)]\n",
    "t_1_id = atomic_dict[(b_1_id, r_1_id)]\n",
    "print(\"b:\",b_1_id)\n",
    "print(\"tail:\",t_1_id)\n",
    "\n",
    "\n",
    "# Tokenizing the Query:\n",
    "decoder_temp_1_id = tokenizer([query_change_id], return_tensors=\"pt\", padding=True)\n",
    "decoder_input_ids_1_id, decoder_attention_mask_1_id = decoder_temp_1_id[\"input_ids\"], decoder_temp_1_id[\"attention_mask\"]\n",
    "decoder_input_ids_1_id, decoder_attention_mask_1_id = decoder_input_ids_1_id.to(device), decoder_attention_mask_1_id.to(device)\n",
    "\n",
    "\n",
    "with torch.no_grad():\n",
    "    # here the same model but with different input !! \n",
    "    outputs_1_id = model(\n",
    "        input_ids=decoder_input_ids_1_id,\n",
    "        attention_mask=decoder_attention_mask_1_id,\n",
    "        output_hidden_states=True\n",
    "    )\n",
    "# hidden state of the 1_id (which will be inserted in the normal run)\n",
    "all_hidden_states_1_id = outputs_1_id['hidden_states']\n",
    "\n",
    "#################### just to quick check everything is right\n",
    "\n",
    "res_dict_b_1_id = dict()\n",
    "target_layer_b = 4\n",
    "# (\"<\"+ b +\">\")  is just for reconstructing (\"<b>\") from \"b\"\n",
    "rank_before_1_id = return_rank(all_hidden_states_1_id[target_layer_b][0, :, :], word_embedding, tokenizer(\"<\"+ b +\">\")['input_ids'][0])[-2]\n",
    "res_dict_b_1_id['rank_before'] = rank_before_1_id\n",
    "print(\" B 1_id\",res_dict_b_1_id)\n",
    "\n"
   ]
  },
  {
   "cell_type": "code",
   "execution_count": 15,
   "metadata": {},
   "outputs": [
    {
     "name": "stdout",
     "output_type": "stream",
     "text": [
      "5\n",
      "{'rank_before': 0, ('insertion at layer5', 'B'): 124, ('Out-tput layer8', 't'): 156}\n"
     ]
    }
   ],
   "source": [
    "# <e_128><r_3><r_11> b= e_11\n",
    "target_layer_intervention = 5\n",
    "target_layer_final = 8\n",
    "# juest rename for more standardized structure\n",
    "all_hidden_states_ctft = all_hidden_states_1_id\n",
    "\n",
    "# we are analysing  with replacing only specific hidden state once a time\n",
    "for layer_to_intervene in range(target_layer_intervention , target_layer_intervention+1 ):\n",
    "    print(layer_to_intervene)\n",
    "    hidden_states = all_hidden_states[layer_to_intervene].clone()    # cloniamo gli hidden del normal run\n",
    "    hidden_states_ctft = all_hidden_states_ctft[layer_to_intervene]  # copiamo quelli del run che inseriremo\n",
    "    # intervene\n",
    "    hidden_states[0, 0, :] = hidden_states_ctft[0, 0, :]   #insereiamo gli hidden state che vogliamo\n",
    "    hidden_states[0, 1, :] = hidden_states_ctft[0, 1, :]   #insereiamo gli hidden state che vogliamo\n",
    "    hidden_states[0, 2, :] = hidden_states_ctft[0, 2, :]   #insereiamo gli hidden state che vogliamo\n",
    "    r_11_id = hidden_states_ctft[0, 2, :]\n",
    "\n",
    "    rank_middle = return_rank(hidden_states[0, :, :], word_embedding, tokenizer(\"<\"+b+\">\")['input_ids'][0])[-2]\n",
    "    res_dict_b[\"insertion at layer\"+str(layer_to_intervene), \"B\"] = rank_middle\n",
    "    #                \n",
    "    with torch.no_grad():\n",
    "        for i in range(layer_to_intervene, target_layer_final):\n",
    "            f_layer = model.transformer.h[i]  # current layer\n",
    "\n",
    "            # attention mechanism \n",
    "            residual = hidden_states       #store the hidden state in residual\n",
    "            # Apply layer normalization to hidden_states.\n",
    "            hidden_states = f_layer.ln_1(hidden_states)\n",
    "            attn_output = f_layer.attn(hidden_states)[0] \n",
    "            hidden_states = attn_output + residual\n",
    "            # mlp  = Feed-Forward Network:\n",
    "            residual = hidden_states\n",
    "            hidden_states = f_layer.ln_2(hidden_states)\n",
    "            feed_forward_hidden_states = f_layer.mlp.c_proj(f_layer.mlp.act(f_layer.mlp.c_fc(hidden_states)))\n",
    "            hidden_states = residual + feed_forward_hidden_states\n",
    "        # final ln\n",
    "        hidden_states = model.transformer.ln_f(hidden_states)\n",
    "    # print(\"--------\")\n",
    "    rank_after = return_rank(hidden_states[0, :, :], word_embedding, tokenizer(\"<\"+t+\">\")['input_ids'][0])[-1]  #t_1_id\n",
    "    res_dict_b[\"Out-tput layer\"+str(target_layer_final), \"t\"] = rank_after\n",
    "\n",
    "print( res_dict_b)\n"
   ]
  },
  {
   "cell_type": "markdown",
   "metadata": {},
   "source": [
    "## PURE B section"
   ]
  },
  {
   "cell_type": "code",
   "execution_count": 16,
   "metadata": {},
   "outputs": [
    {
     "name": "stdout",
     "output_type": "stream",
     "text": [
      "b PURE: e_11\n",
      "tail: e_88\n",
      "Alpha scaling not found in config. Defaulting to alpha = 1.0\n",
      " B PURE {'rank_before': 0, ('Out-tput layer8', 't'): 95}\n",
      " Here we check that we actually find the B at layer 5. It means that we have = rank 0 right above\n",
      " The T should not be 0!!!!!!  \n",
      " as the do not put a r_2 but the B in 3rd place!!\n"
     ]
    }
   ],
   "source": [
    "# This query has in its 3rd place the B already!\n",
    "\n",
    "query_PURE =\"<e_150><r_11><e_11>\" #\"<e_128><r_3><e_11>\"    # 2 hop <e_11><r_11><e_88>\n",
    "\n",
    "h_1_PURE,n_r_1_PURE,r_1_PURE = query_PURE.strip(\"><\").split(\"><\") #\"e_140\",\"r_19\",\"r_11\"   \n",
    "\n",
    "r_1_PURE=\"r_11\"          #query.strip(\"><\").split(\"><\")\n",
    "b_1_PURE = atomic_dict[(h_1_PURE ,n_r_1_PURE)]\n",
    "t_1_PURE = atomic_dict[(b_1_PURE, r_1_PURE)]\n",
    "print(\"b PURE:\",b_1_PURE)\n",
    "print(\"tail:\",t_1_PURE)\n",
    "\n",
    "\n",
    "# Tokenizing the Query:\n",
    "decoder_temp_1_PURE = tokenizer([query_PURE], return_tensors=\"pt\", padding=True)\n",
    "decoder_input_ids_1_PURE, decoder_attention_mask_1_PURE = decoder_temp_1_PURE[\"input_ids\"], decoder_temp_1_PURE[\"attention_mask\"]\n",
    "decoder_input_ids_1_PURE, decoder_attention_mask_1_PURE = decoder_input_ids_1_PURE.to(device), decoder_attention_mask_1_PURE.to(device)\n",
    "\n",
    "\n",
    "with torch.no_grad():\n",
    "    # here the same model but with different input !! \n",
    "    outputs_1_PURE = model(\n",
    "        input_ids=decoder_input_ids_1_PURE,\n",
    "        attention_mask=decoder_attention_mask_1_PURE,\n",
    "        output_hidden_states=True\n",
    "    )\n",
    "# hidden state of the 1_id (which will be inserted in the normal run)\n",
    "all_hidden_states_1_PURE = outputs_1_PURE['hidden_states']\n",
    "\n",
    "#################### just to quick check everything is right\n",
    "\n",
    "res_dict_b_1_PURE = dict()\n",
    "target_layer_b = 4\n",
    "# (\"<\"+ b +\">\")  is just for reconstructing (\"<b>\") from \"b\"\n",
    "rank_before_1_PURE = return_rank(all_hidden_states_1_PURE[target_layer_b][0, :, :], word_embedding, tokenizer(\"<\"+ b_1_PURE +\">\")['input_ids'][0])[-2]\n",
    "res_dict_b_1_PURE['rank_before'] = rank_before_1_PURE\n",
    "\n",
    "rank_after_1 = return_rank(all_hidden_states_1_PURE[target_layer_tail][0, :, :], word_embedding, tokenizer(\"<\"+t_1_PURE+\">\")['input_ids'][0])[-1]\n",
    "res_dict_b_1_PURE[\"Out-tput layer\"+str(target_layer_final), \"t\"] = rank_after_1\n",
    "print(\" B PURE\",res_dict_b_1_PURE)\n",
    "print(\" Here we check that we actually find the B at layer 5. It means that we have = rank 0 right above\")\n",
    "print(\" The T should not be 0!!!!!!  \\n as the do not put a r_2 but the B in 3rd place!!\")\n",
    "\n"
   ]
  },
  {
   "cell_type": "code",
   "execution_count": null,
   "metadata": {},
   "outputs": [],
   "source": []
  },
  {
   "cell_type": "code",
   "execution_count": 17,
   "metadata": {},
   "outputs": [
    {
     "name": "stdout",
     "output_type": "stream",
     "text": [
      "b PURE_R_2: e_99\n",
      "tail: e_51\n",
      "Alpha scaling not found in config. Defaulting to alpha = 1.0\n",
      "B PURE_R_2 {'rank_before': 0, ('Out-put layer_8', 't'): 0}\n",
      "Here we check that we actually find the B at layer 5 = rank 0\n"
     ]
    }
   ],
   "source": [
    "# This query should have already B\n",
    "query_PURE_R_2 = \"<e_1><r_11><r_11>\"  # \"<e_128><r_3><e_11>\"    # 2 hop <e_11><r_11><e_88>\n",
    "\n",
    "# This only is good <e_147><r_4>\n",
    "\n",
    "h_1_PURE_R_2, n_r_1_PURE_R_2, r_1_PURE_R_2 = query_PURE_R_2.strip(\"><\").split(\"><\")  # \"e_140\",\"r_19\",\"r_11\"\n",
    "\n",
    "#r_1_PURE_R_2 =  query.strip(\"><\").split(\"><\") #\"r_11\"  #\n",
    "b_1_PURE_R_2 = atomic_dict[(h_1_PURE_R_2, n_r_1_PURE_R_2)]\n",
    "t_1_PURE_R_2 = atomic_dict[(b_1_PURE_R_2, r_1_PURE_R_2)]\n",
    "print(\"b PURE_R_2:\", b_1_PURE_R_2)\n",
    "print(\"tail:\", t_1_PURE_R_2)\n",
    "\n",
    "# Tokenizing the Query:\n",
    "decoder_temp_1_PURE_R_2 = tokenizer([query_PURE_R_2], return_tensors=\"pt\", padding=True)\n",
    "decoder_input_ids_1_PURE_R_2, decoder_attention_mask_1_PURE_R_2 = decoder_temp_1_PURE_R_2[\"input_ids\"], decoder_temp_1_PURE_R_2[\"attention_mask\"]\n",
    "decoder_input_ids_1_PURE_R_2, decoder_attention_mask_1_PURE_R_2 = decoder_input_ids_1_PURE_R_2.to(device), decoder_attention_mask_1_PURE_R_2.to(device)\n",
    "\n",
    "with torch.no_grad():\n",
    "    # Here the same model but with different input !!\n",
    "    outputs_1_PURE_R_2 = model(\n",
    "        input_ids=decoder_input_ids_1_PURE_R_2,\n",
    "        attention_mask=decoder_attention_mask_1_PURE_R_2,\n",
    "        output_hidden_states=True\n",
    "    )\n",
    "# Hidden state of the 1_id (which will be inserted in the normal run)\n",
    "all_hidden_states_1_PURE_R_2 = outputs_1_PURE_R_2['hidden_states']\n",
    "\n",
    "#################### Just to quickly check everything is right\n",
    "\n",
    "res_dict_b_1_PURE_R_2 = dict()\n",
    "target_layer_b = 4\n",
    "# (\"<\"+ b +\">\") is just for reconstructing (\"<b>\") from \"b\"\n",
    "rank_before_1_PURE_R_2 = return_rank(all_hidden_states_1_PURE_R_2[target_layer_b][0, :, :], word_embedding, tokenizer(\"<\" + b_1_PURE_R_2 + \">\")['input_ids'][0])[-2]\n",
    "res_dict_b_1_PURE_R_2['rank_before'] = rank_before_1_PURE_R_2\n",
    "\n",
    "rank_after_2 = return_rank(all_hidden_states_1_PURE_R_2[target_layer_tail][0, :, :], word_embedding, tokenizer(\"<\"+t_1_PURE_R_2+\">\")['input_ids'][0])[-1]\n",
    "res_dict_b_1_PURE_R_2[\"Out-put layer_\"+str(target_layer_final), \"t\"] = rank_after_2\n",
    "print(\"B PURE_R_2\", res_dict_b_1_PURE_R_2)\n",
    "print(\"Here we check that we actually find the B at layer 5 = rank 0\")"
   ]
  },
  {
   "cell_type": "markdown",
   "metadata": {},
   "source": [
    "## PURE B INTERVENTION"
   ]
  },
  {
   "cell_type": "code",
   "execution_count": 18,
   "metadata": {},
   "outputs": [
    {
     "data": {
      "text/plain": [
       "'e_11'"
      ]
     },
     "execution_count": 18,
     "metadata": {},
     "output_type": "execute_result"
    }
   ],
   "source": [
    "b\n"
   ]
  },
  {
   "cell_type": "code",
   "execution_count": 19,
   "metadata": {},
   "outputs": [
    {
     "name": "stdout",
     "output_type": "stream",
     "text": [
      "5\n",
      "{'rank_before': 0, ('insertion at layer5', 'B'): 0, ('Out-tput layer8', 't'): 0}\n"
     ]
    }
   ],
   "source": [
    "# <e_128><r_3><r_11> b= e_11\n",
    "target_layer_intervention = 5\n",
    "target_layer_final = 8\n",
    "# juest rename for more standardized structure\n",
    "all_hidden_states_ctft = all_hidden_states_1_PURE  # the one with B instead of r_2\n",
    "\n",
    "# we are analysing  with replacing only specific hidden state once a time\n",
    "for layer_to_intervene in range(target_layer_intervention , target_layer_intervention+1 ):\n",
    "    print(layer_to_intervene)\n",
    "    hidden_states = all_hidden_states[layer_to_intervene].clone()    # cloniamo gli hidden del normal run\n",
    "    hidden_states_R_TEST = all_hidden_states[0].clone()    # cloniamo gli hidden del normal run\n",
    "    hidden_states_R_TEST_layer_0_1_position= all_hidden_states_1_PURE_R_2[4].clone()   # layer 0\n",
    "    # intervene normal\n",
    "    hidden_states_ctft = all_hidden_states_ctft[0]  # copiamo quelli del run che inseriremo\n",
    "    #hidden_states[0, 0, :] = hidden_states_ctft[0, 0, :]   #insereiamo gli hidden state che vogliamo\n",
    "    #hidden_states[0, 1, :] = hidden_states_ctft[0, 2, :]   #insereiamo gli hidden state che vogliamo\n",
    "    #hidden_states[0, 2, :] = hidden_states_ctft[0, 2, :]   #insereiamo gli hidden state che vogliamo\n",
    "    #hidden_states[0, 2, :] =        r_11_id   # \"r_2\" =<r_11> layer 4 ID\n",
    "\n",
    "    #intevento PURE B\n",
    "    #hidden_states_ctft = all_hidden_states_ctft[0]  # copiamo quelli del run che inseriremo\n",
    "    #hidden_states[0, 0, :] = hidden_states_ctft[0, 0, :]   #insereiamo gli hidden state che vogliamo\n",
    "    #hidden_states[0, 1, :] = hidden_states_ctft[0, 2, :]   #insereiamo gli hidden state che vogliamo\n",
    "    # Tokenize the word \"r\"  <r_11>\n",
    "    #tokenized_r_2 = tokenizer(\"r_11\")['input_ids'][0]\n",
    "    #hidden_states[0, 2, :] = model.transformer.wte(torch.tensor(tokenized_r_2)).squeeze()\n",
    "    #hidden_states[0, 2, :] = hidden_states_R_TEST[0, 2, :]   # Hidden state di R_2 (normal run)  ma layer 0 fallisce\n",
    "    hidden_states[0, 2, :]= hidden_states_R_TEST_layer_0_1_position[0, 2, :]\n",
    "\n",
    "    rank_middle = return_rank(hidden_states[0, :, :], word_embedding, tokenizer(\"<\"+b+\">\")['input_ids'][0])[-2]\n",
    "    res_dict_b[\"insertion at layer\"+str(layer_to_intervene), \"B\"] = rank_middle\n",
    "    #                \n",
    "    with torch.no_grad():\n",
    "        for i in range(layer_to_intervene, target_layer_final):\n",
    "            f_layer = model.transformer.h[i]  # current layer\n",
    "\n",
    "            # attention mechanism \n",
    "            residual = hidden_states       #store the hidden state in residual\n",
    "            # Apply layer normalization to hidden_states.\n",
    "            hidden_states = f_layer.ln_1(hidden_states)\n",
    "            attn_output = f_layer.attn(hidden_states)[0] \n",
    "            hidden_states = attn_output + residual\n",
    "            # mlp  = Feed-Forward Network:\n",
    "            residual = hidden_states\n",
    "            hidden_states = f_layer.ln_2(hidden_states)\n",
    "            feed_forward_hidden_states = f_layer.mlp.c_proj(f_layer.mlp.act(f_layer.mlp.c_fc(hidden_states)))\n",
    "            hidden_states = residual + feed_forward_hidden_states\n",
    "        # final ln\n",
    "        hidden_states = model.transformer.ln_f(hidden_states)\n",
    "    # print(\"--------\")\n",
    "    rank_after = return_rank(hidden_states[0, :, :], word_embedding, tokenizer(\"<\"+t+\">\")['input_ids'][0])[-1]\n",
    "    res_dict_b[\"Out-tput layer\"+str(target_layer_final), \"t\"] = rank_after\n",
    "\n",
    "print( res_dict_b)\n"
   ]
  },
  {
   "cell_type": "markdown",
   "metadata": {},
   "source": [
    "Interessante vedere che azzecca B e T se metto pure \"B\" (B di layer_0 a layer 5).\n",
    "\n",
    " Ma se metto anche r_2 di layer 0 invece non azzecca piu!"
   ]
  },
  {
   "cell_type": "code",
   "execution_count": 20,
   "metadata": {},
   "outputs": [],
   "source": [
    "res_dict_b= dict()"
   ]
  },
  {
   "cell_type": "markdown",
   "metadata": {},
   "source": [
    "## OOD case\n",
    " > #OOD ['<e_147><r_4><e_11></a>', '<e_9><r_16><e_11></a>'] \n",
    " \n",
    ">2 nd hop  OOD ['<e_11><r_1><e_141></a>'] "
   ]
  },
  {
   "cell_type": "markdown",
   "metadata": {},
   "source": [
    "------Target : <e_114>      ----------------------------------------------------------\n",
    "\n",
    "ID ['<e_181><r_6><e_114></a>', '<e_84><r_13><e_114></a>'] \n",
    "\n",
    "OOD ['<e_123><r_8><e_114></a>', '<e_14><r_12><e_114></a>'] \n",
    " \n",
    "\n",
    "2- hop  ID ['<e_114><r_5><e_137></a>']\n",
    "2nd hop OOD ['<e_114><r_13><e_117></a>'] \n",
    "\n",
    "gia composto id : \"<e_181><r_6><r_5>\""
   ]
  },
  {
   "cell_type": "code",
   "execution_count": null,
   "metadata": {},
   "outputs": [],
   "source": []
  },
  {
   "cell_type": "code",
   "execution_count": null,
   "metadata": {},
   "outputs": [],
   "source": []
  },
  {
   "cell_type": "code",
   "execution_count": null,
   "metadata": {},
   "outputs": [],
   "source": []
  },
  {
   "cell_type": "code",
   "execution_count": null,
   "metadata": {},
   "outputs": [],
   "source": []
  },
  {
   "cell_type": "code",
   "execution_count": 21,
   "metadata": {},
   "outputs": [
    {
     "name": "stdout",
     "output_type": "stream",
     "text": [
      "b: e_11\n",
      "tail: e_141\n",
      "Alpha scaling not found in config. Defaulting to alpha = 1.0\n",
      " B 1_OOD {'rank_before, layer 5 b': 0, 'rank_before, layer 8 search t': 156}\n",
      "as expected in the case of OOD the B is corrctly found at layer 5 but not T at layer 8\n"
     ]
    }
   ],
   "source": [
    "query_change_OOD =\"<e_147><r_4><r_1>\" #\"<e_181><r_6><r_5>\"# \"<e_147><r_4><r_1>\"# \"<e_14><r_12><r_13>\"       # 2 hop ['<e_11><r_1><e_141></a>'] \n",
    "# usato \"<e_147><r_4><r_1>\"\n",
    "h_1_ood,n_r_1_ood,r_1_ood = query_change_OOD.strip(\"><\").split(\"><\") #\"e_140\",\"r_19\",\"r_11\"             #query.strip(\"><\").split(\"><\")\n",
    "b_1_ood = atomic_dict[(h_1_ood ,n_r_1_ood)]\n",
    "t_1_ood = atomic_dict[(b_1_ood, r_1_ood)]\n",
    "print(\"b:\",b_1_ood)\n",
    "print(\"tail:\",t_1_ood)\n",
    "\n",
    "\n",
    "# Tokenizing the Query:\n",
    "decoder_temp_1_OOD = tokenizer([query_change_OOD], return_tensors=\"pt\", padding=True)\n",
    "decoder_input_ids_1_OOD, decoder_attention_mask_1_OOD = decoder_temp_1_OOD[\"input_ids\"], decoder_temp_1_OOD[\"attention_mask\"]\n",
    "decoder_input_ids_1_OOD, decoder_attention_mask_1_OOD = decoder_input_ids_1_OOD.to(device), decoder_attention_mask_1_OOD.to(device)\n",
    "\n",
    "\n",
    "with torch.no_grad():\n",
    "    # here the same model but with different input !! \n",
    "    outputs_1_OOD = model(\n",
    "        input_ids=decoder_input_ids_1_OOD,\n",
    "        attention_mask=decoder_attention_mask_1_OOD,\n",
    "        output_hidden_states=True\n",
    "    )\n",
    "# hidden state of the 1_id (which will be inserted in the normal run)\n",
    "all_hidden_states_1_OOD = outputs_1_OOD['hidden_states']\n",
    "\n",
    "#################### just to quick check everything is right\n",
    "\n",
    "res_dict_b_1_OOD = dict()\n",
    "target_layer_b = 4\n",
    "target_layer_t = 8\n",
    "# (\"<\"+ b +\">\")  is just for reconstructing (\"<b>\") from \"b\"\n",
    "rank_before_1_OOD = return_rank(all_hidden_states_1_OOD[target_layer_b][0, :, :], word_embedding, tokenizer(\"<\"+ b_1_ood +\">\")['input_ids'][0])[-2]\n",
    "res_dict_b_1_OOD['rank_before, layer 5 b'] = rank_before_1_OOD\n",
    "\n",
    "# laste layer search for t\n",
    "rank_before_1_OOD_t = return_rank(all_hidden_states_1_OOD[target_layer_t][0, :, :], word_embedding, tokenizer(\"<\"+ t_1_ood +\">\")['input_ids'][0])[-1]\n",
    "res_dict_b_1_OOD['rank_before, layer 8 search t'] = rank_before_1_OOD_t\n",
    "print(\" B 1_OOD\",res_dict_b_1_OOD)\n",
    "print(\"as expected in the case of OOD the B is corrctly found at layer 5 but not T at layer 8\")\n",
    "\n"
   ]
  },
  {
   "cell_type": "code",
   "execution_count": 22,
   "metadata": {},
   "outputs": [
    {
     "name": "stdout",
     "output_type": "stream",
     "text": [
      "b e_11\n",
      "\n",
      " b_ood e_11\n"
     ]
    }
   ],
   "source": [
    "print(\"b\",b)\n",
    "print(\"\\n b_ood\",b_1_ood)"
   ]
  },
  {
   "cell_type": "markdown",
   "metadata": {},
   "source": [
    "\n",
    "**The following  OOD test is just to extract \"r_2\"** (second r hop, same that is in the Normal run) from an OOD.ood_atomic.\n",
    "What i wanted to test is that by replacing alle the hidden stated of layer 5 of the normal run  with hidden sattes of layer 5 (that comes from OOD but give the same \"b\" and same r_2) the normal run would be able to correct predict. In other words if the model save the B in layer 5 differently if comes from id or OOD. **it doesnt** against my hypothesis!. The test OOD od r_2 was done to make sure the r_2 from the normal run would not save importan information coming from ID. it doesnt"
   ]
  },
  {
   "cell_type": "code",
   "execution_count": 23,
   "metadata": {},
   "outputs": [
    {
     "name": "stdout",
     "output_type": "stream",
     "text": [
      "b: e_11\n",
      "tail: e_88\n",
      " B 1_id {'rank_before': 147}\n"
     ]
    }
   ],
   "source": [
    "#query = \"<e_140><r_19><r_11>\"      # the inferred chosen (by combining the ID and 2nd hop)\n",
    "h,n_r,r = query.strip(\"><\").split(\"><\") #\"e_140\",\"r_19\",\"r_11\"             #query.strip(\"><\").split(\"><\")\n",
    "b = atomic_dict[(h, n_r)]\n",
    "t = atomic_dict[(b, r)]\n",
    "\n",
    "print(\"b:\",b)\n",
    "print(\"tail:\",t)\n",
    "\n",
    "\n",
    "rank_before_1_id = return_rank(all_hidden_states_1_id[target_layer_b][0, :, :], word_embedding, tokenizer(\"<\"+ b +\">\")['input_ids'][0])[-2]\n",
    "res_dict_b_1_id['rank_before'] = rank_before_1_id\n",
    "print(\" B 1_id\",res_dict_b_1_id)"
   ]
  },
  {
   "cell_type": "code",
   "execution_count": 24,
   "metadata": {},
   "outputs": [
    {
     "name": "stdout",
     "output_type": "stream",
     "text": [
      "b: e_161\n",
      "tail: e_109\n",
      "Alpha scaling not found in config. Defaulting to alpha = 1.0\n",
      " B 1_OOD  TEST! {'rank_before, layer 5 b': 0, 'rank_before, layer 8 search t': 2}\n",
      "as expected in the case of OOD the B is corrctly found at layer 5 but not T at layer 8\n"
     ]
    }
   ],
   "source": [
    "#cancella dopo il test\n",
    "query_change_OOD_test =\"<e_141><r_4><r_14>\"\n",
    "# r_11 from ood  \"<e_161><r_11><e_165></a>   and <e_141><r_4><e_161></a>\"\n",
    "\n",
    "#query_change_OOD_test =\"<e_141><r_4><r_11>\" #\"<e_181><r_6><r_5>\"# \"<e_147><r_4><r_1>\"# \"<e_14><r_12><r_13>\"       # 2 hop ['<e_11><r_1><e_141></a>'] \n",
    "# usato \"<e_147><r_4><r_1>\"\n",
    "h_1_ood_test,n_r_1_ood_test,r_1_ood_test = query_change_OOD_test.strip(\"><\").split(\"><\") #\"e_140\",\"r_19\",\"r_11\"             #query.strip(\"><\").split(\"><\")\n",
    "b_1_ood_test = atomic_dict[(h_1_ood_test ,n_r_1_ood_test)]\n",
    "t_1_ood_test = atomic_dict[(b_1_ood_test, r_1_ood_test)]\n",
    "print(\"b:\",b_1_ood_test)\n",
    "print(\"tail:\",t_1_ood_test)\n",
    "\n",
    "\n",
    "# Tokenizing the Query:\n",
    "decoder_temp_1_OOD_test = tokenizer([query_change_OOD_test], return_tensors=\"pt\", padding=True)\n",
    "decoder_input_ids_1_OOD_test, decoder_attention_mask_1_OOD_test = decoder_temp_1_OOD_test[\"input_ids\"], decoder_temp_1_OOD_test[\"attention_mask\"]\n",
    "decoder_input_ids_1_OOD_test, decoder_attention_mask_1_OOD_test = decoder_input_ids_1_OOD_test.to(device), decoder_attention_mask_1_OOD_test.to(device)\n",
    "\n",
    "\n",
    "with torch.no_grad():\n",
    "    # here the same model but with different input !! \n",
    "    outputs_1_OOD_test = model(\n",
    "        input_ids=decoder_input_ids_1_OOD_test,\n",
    "        attention_mask=decoder_attention_mask_1_OOD_test,\n",
    "        output_hidden_states=True\n",
    "    )\n",
    "# hidden state of the 1_id (which will be inserted in the normal run)\n",
    "all_hidden_states_1_OOD_test= outputs_1_OOD_test['hidden_states']\n",
    "\n",
    "#################### just to quick check everything is right\n",
    "\n",
    "res_dict_b_1_OOD_test = dict()\n",
    "target_layer_b = 4\n",
    "target_layer_t = 8\n",
    "# (\"<\"+ b +\">\")  is just for reconstructing (\"<b>\") from \"b\"\n",
    "rank_before_1_OOD_test = return_rank(all_hidden_states_1_OOD_test[target_layer_b][0, :, :], word_embedding, tokenizer(\"<\"+ b_1_ood_test +\">\")['input_ids'][0])[-2]\n",
    "res_dict_b_1_OOD_test['rank_before, layer 5 b'] = rank_before_1_OOD_test\n",
    "\n",
    "# laste layer search for t\n",
    "rank_before_1_OOD_t_test = return_rank(all_hidden_states_1_OOD_test[target_layer_t][0, :, :], word_embedding, tokenizer(\"<\"+ t_1_ood_test +\">\")['input_ids'][0])[-1]\n",
    "res_dict_b_1_OOD_test['rank_before, layer 8 search t'] = rank_before_1_OOD_t_test\n",
    "print(\" B 1_OOD  TEST!\",res_dict_b_1_OOD_test)\n",
    "print(\"as expected in the case of OOD the B is corrctly found at layer 5 but not T at layer 8\")\n"
   ]
  },
  {
   "cell_type": "code",
   "execution_count": null,
   "metadata": {},
   "outputs": [],
   "source": []
  },
  {
   "cell_type": "code",
   "execution_count": null,
   "metadata": {},
   "outputs": [],
   "source": []
  },
  {
   "cell_type": "markdown",
   "metadata": {},
   "source": [
    "## **Intervention with OOD insertion**\n",
    "\n",
    "What: Insert in the normal run (ID run) the 5 layer hydden layers coming from a OOD run representing the same Bridge entity and r_2 relation.\n",
    "It has be seen that the model still predict B (as expected as also the OOD predict the B) but also the t. In other words, does not seem that the model store and use information about how he gets to the Bridge. Given one Bridge he is able to secondo hop if the second hop is in ID."
   ]
  },
  {
   "cell_type": "code",
   "execution_count": 25,
   "metadata": {},
   "outputs": [
    {
     "name": "stdout",
     "output_type": "stream",
     "text": [
      "4\n",
      "layer aggiornato: 4\n",
      "layer aggiornato: 5\n",
      "layer aggiornato: 6\n",
      "layer aggiornato: 7\n",
      "{('insertion at layer4', 'B'): 0, ('Out-tput layer8', 't'): 28}\n"
     ]
    }
   ],
   "source": [
    "res_dict_OOD_intervention= dict()\n",
    "\n",
    "target_layer_intervention = 4\n",
    "target_layer_final = 8\n",
    "# juest rename for more standardized structure\n",
    "all_hidden_states_ctft_1 = all_hidden_states_1_OOD\n",
    "\n",
    "# we are analysing  with replacing only specific hidden state once a time\n",
    "for layer_to_intervene in range(target_layer_intervention , target_layer_intervention +1):\n",
    "    print(layer_to_intervene)\n",
    "    hidden_states_1 = all_hidden_states[layer_to_intervene].clone()    # cloniamo gli hidden del normal run\n",
    "    hidden_states_ctft_1 = all_hidden_states_ctft_1[layer_to_intervene]  # copiamo quelli del run che inseriremo\n",
    "#r_2  r\n",
    "    r_2_ood = all_hidden_states_1_OOD_test[layer_to_intervene]\n",
    "\n",
    "    # intervene\n",
    "    hidden_states_1[0, 0, :] = hidden_states_ctft_1[0, 0, :]   #insereiamo gli hidden state che vogliamo\n",
    "    hidden_states_1[0, 1, :] = hidden_states_ctft_1[0, 1, :]\n",
    "    #hidden_states_1[0, 2, :] = hidden_states_ctft_1[0, 2, :]  # prova ad inserire r_2 di ood\n",
    "    #hidden_states_1[0, 2, :]= r_11_id\n",
    "    hidden_states_1[0, 2, :]= r_2_ood[0, 2, :] # this is a r(second hop) coming from another ood (with not even a;r_1 the same. This prove that r_2 does not \n",
    "    # store calculation in the first 5 layers according to paper results.)\n",
    "    \n",
    "\n",
    "    rank_middle_1 = return_rank(hidden_states_1[0, :, :], word_embedding, tokenizer(\"<\"+b+\">\")['input_ids'][0])[-2]\n",
    "    res_dict_OOD_intervention[\"insertion at layer\"+str(layer_to_intervene), \"B\"] = rank_middle_1\n",
    "    #                \n",
    "    with torch.no_grad():\n",
    "        for i in range(layer_to_intervene, target_layer_final):\n",
    "            f_layer_1 = model.transformer.h[i]  # current layer\n",
    "            print(\"layer aggiornato:\",i)\n",
    "            # attention mechanism \n",
    "            residual_1 = hidden_states_1       #store the hidden state in residual\n",
    "            # Apply layer normalization to hidden_states.\n",
    "            hidden_states_1 = f_layer_1.ln_1(hidden_states_1)\n",
    "            attn_output_1 = f_layer_1.attn(hidden_states_1)[0] \n",
    "            hidden_states_1 = attn_output_1 + residual_1\n",
    "            # mlp  = Feed-Forward Network:\n",
    "            residual_1 = hidden_states_1\n",
    "            hidden_states_1 = f_layer_1.ln_2(hidden_states_1)\n",
    "            feed_forward_hidden_states_1 = f_layer_1.mlp.c_proj(f_layer_1.mlp.act(f_layer_1.mlp.c_fc(hidden_states_1)))\n",
    "            hidden_states_1 = residual_1 + feed_forward_hidden_states_1\n",
    "        # final ln\n",
    "        hidden_states_1 = model.transformer.ln_f(hidden_states_1)\n",
    "    # print(\"--------\")\n",
    "    rank_after_1 = return_rank(hidden_states_1[0, :, :], word_embedding, tokenizer(\"<\"+t+\">\")['input_ids'][0])[-1]\n",
    "    res_dict_OOD_intervention[\"Out-tput layer\"+str(target_layer_final), \"t\"] = rank_after_1\n",
    "\n",
    "print( res_dict_OOD_intervention)\n"
   ]
  },
  {
   "cell_type": "code",
   "execution_count": 26,
   "metadata": {},
   "outputs": [],
   "source": [
    "res_dict_OOD_intervention= dict()"
   ]
  },
  {
   "cell_type": "markdown",
   "metadata": {},
   "source": [
    "## Intervention ID insertion of OOD normal run (basically means that the first hop is in ID and the second in OOD)\n",
    " Hypothesis: it fails as the model doesn not take care from where it comes. \n",
    " As hypotized the test shows that if in an OOD run we insert the B from an ID run the model still fails. As he still has not seen the second hop in this position"
   ]
  },
  {
   "cell_type": "code",
   "execution_count": 27,
   "metadata": {},
   "outputs": [
    {
     "name": "stdout",
     "output_type": "stream",
     "text": [
      "4\n",
      "layer aggiornato: 4\n",
      "layer aggiornato: 5\n",
      "layer aggiornato: 6\n",
      "layer aggiornato: 7\n",
      "{('insertion at layer4', 'B'): 0, ('Out-tput layer8', 't'): 149}\n"
     ]
    }
   ],
   "source": [
    "res_dict_OOD_intervention= dict()\n",
    "\n",
    "target_layer_intervention = 4\n",
    "target_layer_final = 8\n",
    "# juest rename for more standardized structure\n",
    "all_hidden_states_ctft_1 = all_hidden_states\n",
    "\n",
    "# we are analysing  with replacing only specific hidden state once a time\n",
    "for layer_to_intervene in range(target_layer_intervention , target_layer_intervention +1):\n",
    "    print(layer_to_intervene)\n",
    "    hidden_states_1 = all_hidden_states_1_OOD[layer_to_intervene].clone()    # cloniamo gli hidden del normal run\n",
    "    hidden_states_ctft_1 = all_hidden_states_ctft_1[layer_to_intervene]  # copiamo quelli del run che inseriremo\n",
    "#r_2  r\n",
    "    #r_2_ood = all_hidden_states_1_OOD_test[layer_to_intervene]\n",
    "\n",
    "    # intervene\n",
    "    hidden_states_1[0, 0, :] = hidden_states_ctft_1[0, 0, :]   #insereiamo gli hidden state che vogliamo\n",
    "    hidden_states_1[0, 1, :] = hidden_states_ctft_1[0, 1, :]\n",
    "    #hidden_states_1[0, 2, :] = hidden_states_ctft_1[0, 2, :]  # prova ad inserire r_2 di ood\n",
    "    #hidden_states_1[0, 2, :]= r_11_id\n",
    "    #hidden_states_1[0, 2, :]= r_2_ood[0, 2, :] # this is a r(second hop) coming from another ood (with not even a;r_1 the same. This prove that r_2 does not \n",
    "    # store calculation in the first 5 layers according to paper results.)\n",
    "    \n",
    "\n",
    "    rank_middle_1 = return_rank(hidden_states_1[0, :, :], word_embedding, tokenizer(\"<\"+b+\">\")['input_ids'][0])[-2]\n",
    "    res_dict_OOD_intervention[\"insertion at layer\"+str(layer_to_intervene), \"B\"] = rank_middle_1\n",
    "    #                \n",
    "    with torch.no_grad():\n",
    "        for i in range(layer_to_intervene, target_layer_final):\n",
    "            f_layer_1 = model.transformer.h[i]  # current layer\n",
    "            print(\"layer aggiornato:\",i)\n",
    "            # attention mechanism \n",
    "            residual_1 = hidden_states_1       #store the hidden state in residual\n",
    "            # Apply layer normalization to hidden_states.\n",
    "            hidden_states_1 = f_layer_1.ln_1(hidden_states_1)\n",
    "            attn_output_1 = f_layer_1.attn(hidden_states_1)[0] \n",
    "            hidden_states_1 = attn_output_1 + residual_1\n",
    "            # mlp  = Feed-Forward Network:\n",
    "            residual_1 = hidden_states_1\n",
    "            hidden_states_1 = f_layer_1.ln_2(hidden_states_1)\n",
    "            feed_forward_hidden_states_1 = f_layer_1.mlp.c_proj(f_layer_1.mlp.act(f_layer_1.mlp.c_fc(hidden_states_1)))\n",
    "            hidden_states_1 = residual_1 + feed_forward_hidden_states_1\n",
    "        # final ln\n",
    "        hidden_states_1 = model.transformer.ln_f(hidden_states_1)\n",
    "    # print(\"--------\")\n",
    "    rank_after_1 = return_rank(hidden_states_1[0, :, :], word_embedding, tokenizer(\"<\"+t_1_ood+\">\")['input_ids'][0])[-1]\n",
    "    res_dict_OOD_intervention[\"Out-tput layer\"+str(target_layer_final), \"t\"] = rank_after_1\n",
    "\n",
    "print( res_dict_OOD_intervention)\n"
   ]
  },
  {
   "cell_type": "markdown",
   "metadata": {},
   "source": [
    "## Intervention by putting a pure \"B\". \n",
    "So basically we are inserting in layer 4 the right B and r_2 however as they appear juat in tokenization in layer 1.\n",
    "\n",
    "What wwe are checking is if the learned weights in layer 5 and upwards are able to tract also the \"pure atomics or they just learn to recognise transformations of the pure atomics that well explain why if theay are not able to tract the B_ood in layer 2 as they have no idea how they look like after getting throght tranformations in layer 5."
   ]
  },
  {
   "cell_type": "code",
   "execution_count": null,
   "metadata": {},
   "outputs": [],
   "source": []
  },
  {
   "cell_type": "code",
   "execution_count": null,
   "metadata": {},
   "outputs": [],
   "source": []
  },
  {
   "cell_type": "code",
   "execution_count": null,
   "metadata": {},
   "outputs": [],
   "source": []
  },
  {
   "cell_type": "code",
   "execution_count": null,
   "metadata": {},
   "outputs": [],
   "source": []
  },
  {
   "cell_type": "markdown",
   "metadata": {},
   "source": [
    "## Test 3 -hop sharing loro model\n",
    "\n",
    "MODEL_PATH =  \"/scratch/davide/model_paper/outputs_SMALL_sharing/checkpoint-1500000/\""
   ]
  },
  {
   "cell_type": "code",
   "execution_count": 28,
   "metadata": {},
   "outputs": [
    {
     "name": "stdout",
     "output_type": "stream",
     "text": [
      "Alpha scaling not found in config. Defaulting to alpha = 1.0\n",
      "Alpha scaling not found in config. Defaulting to alpha = 1.0\n",
      "Alpha scaling not found in config. Defaulting to alpha = 1.0\n"
     ]
    },
    {
     "name": "stderr",
     "output_type": "stream",
     "text": [
      "/home/s220331/GROK/Thesis/transformers/src/transformers/generation/utils.py:1547: UserWarning: You have modified the pretrained model configuration to control generation. This is a deprecated strategy to control generation and will be removed soon, in a future version. Please use and modify the model generation configuration (see https://huggingface.co/docs/transformers/generation_strategies#default-text-generation-configuration )\n",
      "  warnings.warn(\n"
     ]
    },
    {
     "name": "stdout",
     "output_type": "stream",
     "text": [
      "Alpha scaling not found in config. Defaulting to alpha = 1.0\n",
      "Alpha scaling not found in config. Defaulting to alpha = 1.0\n",
      "Alpha scaling not found in config. Defaulting to alpha = 1.0\n",
      "Alpha scaling not found in config. Defaulting to alpha = 1.0\n",
      "Alpha scaling not found in config. Defaulting to alpha = 1.0\n",
      "Input: <e_188><r_6>\n",
      "Prediction: <e_188> <r_6> <e_185> </a>\n"
     ]
    }
   ],
   "source": [
    "input_texts = [\"<e_188><r_6>\"]    # tartget : <e_188><r_6><e_185></a>\n",
    "predict(model, tokenizer, input_texts, device, max_length=max_length, num_return_sequences=num_return_sequences)\n",
    "# giusto"
   ]
  },
  {
   "cell_type": "code",
   "execution_count": 29,
   "metadata": {},
   "outputs": [
    {
     "name": "stdout",
     "output_type": "stream",
     "text": [
      "Alpha scaling not found in config. Defaulting to alpha = 1.0\n",
      "Alpha scaling not found in config. Defaulting to alpha = 1.0\n",
      "Alpha scaling not found in config. Defaulting to alpha = 1.0\n",
      "Alpha scaling not found in config. Defaulting to alpha = 1.0\n",
      "Alpha scaling not found in config. Defaulting to alpha = 1.0\n",
      "Alpha scaling not found in config. Defaulting to alpha = 1.0\n",
      "Alpha scaling not found in config. Defaulting to alpha = 1.0\n",
      "Input: <e_168><r_19><r_1>\n",
      "Prediction: <e_168> <r_19> <r_1> <e_173> </a>\n"
     ]
    }
   ],
   "source": [
    "input_texts = [\"<e_168><r_19><r_1>\"]  # target \"<e_168><r_19><r_1><e_106></a>\"   # giusto\n",
    "\n",
    "predict(model, tokenizer, input_texts, device, max_length=max_length, num_return_sequences=num_return_sequences)"
   ]
  },
  {
   "cell_type": "code",
   "execution_count": 30,
   "metadata": {},
   "outputs": [
    {
     "name": "stdout",
     "output_type": "stream",
     "text": [
      "Alpha scaling not found in config. Defaulting to alpha = 1.0\n",
      "Alpha scaling not found in config. Defaulting to alpha = 1.0\n",
      "Alpha scaling not found in config. Defaulting to alpha = 1.0\n",
      "Alpha scaling not found in config. Defaulting to alpha = 1.0\n",
      "Alpha scaling not found in config. Defaulting to alpha = 1.0\n",
      "Alpha scaling not found in config. Defaulting to alpha = 1.0\n",
      "Alpha scaling not found in config. Defaulting to alpha = 1.0\n",
      "Input: <e_150><r_16><r_15>\n",
      "Prediction: <e_150> <r_16> <r_15> <e_79> </a>\n",
      "Alpha scaling not found in config. Defaulting to alpha = 1.0\n",
      "Alpha scaling not found in config. Defaulting to alpha = 1.0\n",
      "Alpha scaling not found in config. Defaulting to alpha = 1.0\n",
      "Alpha scaling not found in config. Defaulting to alpha = 1.0\n",
      "Alpha scaling not found in config. Defaulting to alpha = 1.0\n",
      "Alpha scaling not found in config. Defaulting to alpha = 1.0\n",
      "Alpha scaling not found in config. Defaulting to alpha = 1.0\n",
      "Alpha scaling not found in config. Defaulting to alpha = 1.0\n",
      "Input: <e_144><r_9>\n",
      "Prediction: <e_144> <r_9> <e_79> </a>\n",
      "Alpha scaling not found in config. Defaulting to alpha = 1.0\n",
      "Alpha scaling not found in config. Defaulting to alpha = 1.0\n",
      "Alpha scaling not found in config. Defaulting to alpha = 1.0\n",
      "Alpha scaling not found in config. Defaulting to alpha = 1.0\n",
      "Alpha scaling not found in config. Defaulting to alpha = 1.0\n",
      "Alpha scaling not found in config. Defaulting to alpha = 1.0\n",
      "Input: <e_150><r_16><r_15><r_9>\n",
      "Prediction: <e_150> <r_16> <r_15> <r_9> <e_40> <e_51> <e_40> <e_51> <e_40> </a>\n"
     ]
    }
   ],
   "source": [
    "\n",
    "\n",
    "input_texts = [\"<e_150><r_16><r_15>\"]  # target <e_150><r_16><r_15><e_144>   # giusto\n",
    "\n",
    "predict(model, tokenizer, input_texts, device, max_length=max_length, num_return_sequences=num_return_sequences)\n",
    "\n",
    "input_texts = [\"<e_144><r_9>\"]  # target <e_144><r_9><e_79></a>   # giusto\n",
    "\n",
    "predict(model, tokenizer, input_texts, device, max_length=max_length, num_return_sequences=num_return_sequences)\n",
    "\n",
    "input_texts = [\"<e_150><r_16><r_15><r_9>\"]  # target <e_79>   # no\n",
    "\n",
    "predict(model, tokenizer, input_texts, device, max_length=max_length, num_return_sequences=num_return_sequences)\n",
    "\n",
    "\n"
   ]
  },
  {
   "cell_type": "code",
   "execution_count": 31,
   "metadata": {},
   "outputs": [
    {
     "name": "stdout",
     "output_type": "stream",
     "text": [
      "Alpha scaling not found in config. Defaulting to alpha = 1.0\n",
      "Alpha scaling not found in config. Defaulting to alpha = 1.0\n",
      "Alpha scaling not found in config. Defaulting to alpha = 1.0\n",
      "Alpha scaling not found in config. Defaulting to alpha = 1.0\n",
      "Alpha scaling not found in config. Defaulting to alpha = 1.0\n",
      "Input: <e_150><r_16><r_15><e_144><r_9>\n",
      "Prediction: <e_150> <r_16> <r_15> <e_144> <r_9> <e_40> </a>\n"
     ]
    }
   ],
   "source": [
    "input_texts = [\"<e_150><r_16><r_15><e_144><r_9>\"]  # target <e_79>   # no\n",
    "\n",
    "predict(model, tokenizer, input_texts, device, max_length=max_length, num_return_sequences=num_return_sequences)"
   ]
  },
  {
   "cell_type": "markdown",
   "metadata": {},
   "source": [
    "# Test\n",
    "\n",
    "In the train **\"outputs_OOD_MODIFIED_composition_SMALL.200.20.18.0/checkpoint-350000/\"** we put some OOD facts in the inferred training (so it become ID):\n",
    "\n",
    "- 1) More precisely for the atomics **<e_0><r_14>** and **<e_1><r_8>** **TWO** 2-hop (inferred facts) were provided each,(to se if now on they would be able to get the 2-hop in general, like being included in a set of atomics that are able to use the lerned rule) :\n",
    ">{\"input_text\": \"<e_0><r_14><r_3>\", \"target_text\": \"<e_0><r_14><r_3><e_100></a>\"}, \n",
    "\n",
    ">{\"input_text\": \"<e_0><r_14><r_6>\", \"target_text\": \"<e_0><r_14><r_6><e_150></a>\"}, \n",
    "----------------------------------------------------------------------------------\n",
    ">{\"input_text\": \"<e_1><r_8><r_6>\", \"target_text\": \"<e_1><r_8><r_6><e_69></a>\"}, \n",
    "\n",
    ">{\"input_text\": \"<e_1><r_8><r_5>\", \"target_text\": \"<e_1><r_8><r_5><e_81></a>\"}, \n",
    "\n",
    "\n",
    "---------------------------------\n",
    "- 2) for the atomic **<e_2><r_6>** and **<e_13><r_8>**only ****ONE** example of 2-hop was provided:\n",
    ">{\"input_text\": \"<e_2><r_6><r_7>\", \"target_text\": \"<e_2><r_6><r_7><e_89></a>\"},\n",
    "\n",
    ">{\"input_text\": \"<e_13><r_8><r_11>\", \"target_text\": \"<e_13><r_8><r_11><e_197></a>\"},\n",
    "\n",
    "\n",
    "\n"
   ]
  },
  {
   "cell_type": "markdown",
   "metadata": {},
   "source": [
    "Now we are testing first if we memorized the inferred fact we trained on in bot the cases:"
   ]
  },
  {
   "cell_type": "markdown",
   "metadata": {},
   "source": [
    "**Case 1)** with **TWO** EXAMPLE PROVIDED \n",
    "\n",
    "All the 4 the cases were recall/memorized from the model"
   ]
  },
  {
   "cell_type": "code",
   "execution_count": 32,
   "metadata": {},
   "outputs": [
    {
     "name": "stdout",
     "output_type": "stream",
     "text": [
      "Alpha scaling not found in config. Defaulting to alpha = 1.0\n",
      "Alpha scaling not found in config. Defaulting to alpha = 1.0\n",
      "Alpha scaling not found in config. Defaulting to alpha = 1.0\n",
      "Alpha scaling not found in config. Defaulting to alpha = 1.0\n",
      "Alpha scaling not found in config. Defaulting to alpha = 1.0\n",
      "Alpha scaling not found in config. Defaulting to alpha = 1.0\n",
      "Alpha scaling not found in config. Defaulting to alpha = 1.0\n",
      "Input: <e_0><r_14><r_6>\n",
      "Prediction: <e_0> <r_14> <r_6> <e_58> </a>\n",
      "Alpha scaling not found in config. Defaulting to alpha = 1.0\n",
      "Alpha scaling not found in config. Defaulting to alpha = 1.0\n",
      "Alpha scaling not found in config. Defaulting to alpha = 1.0\n",
      "Alpha scaling not found in config. Defaulting to alpha = 1.0\n",
      "Alpha scaling not found in config. Defaulting to alpha = 1.0\n",
      "Alpha scaling not found in config. Defaulting to alpha = 1.0\n",
      "Alpha scaling not found in config. Defaulting to alpha = 1.0\n",
      "Input: <e_0><r_14><r_3>\n",
      "Prediction: <e_0> <r_14> <r_3> <e_126> </a>\n"
     ]
    }
   ],
   "source": [
    "input_texts = [\"<e_0><r_14><r_6>\"]\n",
    "predict(model, tokenizer, input_texts, device, max_length=max_length, num_return_sequences=num_return_sequences)\n",
    "\n",
    "input_texts = [\"<e_0><r_14><r_3>\"]\n",
    "predict(model, tokenizer, input_texts, device, max_length=max_length, num_return_sequences=num_return_sequences)"
   ]
  },
  {
   "cell_type": "code",
   "execution_count": 33,
   "metadata": {},
   "outputs": [
    {
     "name": "stdout",
     "output_type": "stream",
     "text": [
      "Alpha scaling not found in config. Defaulting to alpha = 1.0\n",
      "Alpha scaling not found in config. Defaulting to alpha = 1.0\n",
      "Alpha scaling not found in config. Defaulting to alpha = 1.0\n",
      "Alpha scaling not found in config. Defaulting to alpha = 1.0\n",
      "Alpha scaling not found in config. Defaulting to alpha = 1.0\n",
      "Alpha scaling not found in config. Defaulting to alpha = 1.0\n",
      "Alpha scaling not found in config. Defaulting to alpha = 1.0\n",
      "Input: <e_1><r_8><r_6>\n",
      "Prediction: <e_1> <r_8> <r_6> <e_63> </a>\n",
      "Alpha scaling not found in config. Defaulting to alpha = 1.0\n",
      "Alpha scaling not found in config. Defaulting to alpha = 1.0\n",
      "Alpha scaling not found in config. Defaulting to alpha = 1.0\n",
      "Alpha scaling not found in config. Defaulting to alpha = 1.0\n",
      "Alpha scaling not found in config. Defaulting to alpha = 1.0\n",
      "Alpha scaling not found in config. Defaulting to alpha = 1.0\n",
      "Alpha scaling not found in config. Defaulting to alpha = 1.0\n",
      "Input: <e_1><r_8><r_5>\n",
      "Prediction: <e_1> <r_8> <r_5> <e_151> </a>\n"
     ]
    }
   ],
   "source": [
    "input_texts = [\"<e_1><r_8><r_6>\"]   # target <e_1><r_8><r_6><e_69></a>\n",
    "predict(model, tokenizer, input_texts, device, max_length=max_length, num_return_sequences=num_return_sequences)\n",
    "\n",
    "input_texts = [\"<e_1><r_8><r_5>\"]   # target <e_1><r_8><r_5><e_81></a>\n",
    "predict(model, tokenizer, input_texts, device, max_length=max_length, num_return_sequences=num_return_sequences)"
   ]
  },
  {
   "cell_type": "markdown",
   "metadata": {},
   "source": [
    "**Case 2)** with **ONE** EXAMPLE PROVIDED\n",
    "\n",
    "Really weird but in one case **<e_2><r_6><r_7>**  it recall the learned pattern\n",
    "\n",
    "in the other **<e_13><r_8><r_11>*** it seem to not even have momorized the train example of the inferred (even if the first hop are memorized)"
   ]
  },
  {
   "cell_type": "code",
   "execution_count": 34,
   "metadata": {},
   "outputs": [
    {
     "name": "stdout",
     "output_type": "stream",
     "text": [
      "Alpha scaling not found in config. Defaulting to alpha = 1.0\n",
      "Alpha scaling not found in config. Defaulting to alpha = 1.0\n",
      "Alpha scaling not found in config. Defaulting to alpha = 1.0\n",
      "Alpha scaling not found in config. Defaulting to alpha = 1.0\n",
      "Alpha scaling not found in config. Defaulting to alpha = 1.0\n",
      "Alpha scaling not found in config. Defaulting to alpha = 1.0\n",
      "Alpha scaling not found in config. Defaulting to alpha = 1.0\n",
      "Input: <e_2><r_6><r_7>\n",
      "Prediction: <e_2> <r_6> <r_7> <e_65> </a>\n"
     ]
    }
   ],
   "source": [
    "input_texts = [\"<e_2><r_6><r_7>\"]   # target <e_2><r_6><r_7><e_89></a>\n",
    "predict(model, tokenizer, input_texts, device, max_length=max_length, num_return_sequences=num_return_sequences)\n"
   ]
  },
  {
   "cell_type": "code",
   "execution_count": 35,
   "metadata": {},
   "outputs": [
    {
     "name": "stdout",
     "output_type": "stream",
     "text": [
      "Alpha scaling not found in config. Defaulting to alpha = 1.0\n",
      "Alpha scaling not found in config. Defaulting to alpha = 1.0\n",
      "Alpha scaling not found in config. Defaulting to alpha = 1.0\n",
      "Alpha scaling not found in config. Defaulting to alpha = 1.0\n",
      "Alpha scaling not found in config. Defaulting to alpha = 1.0\n",
      "Alpha scaling not found in config. Defaulting to alpha = 1.0\n",
      "Alpha scaling not found in config. Defaulting to alpha = 1.0\n",
      "Input: <e_13><r_8><r_11>\n",
      "Prediction: <e_13> <r_8> <r_11> <e_21> </a>\n",
      "\n",
      "------------------**Let's see the atomic fact**:------------------\n",
      "\n",
      "Alpha scaling not found in config. Defaulting to alpha = 1.0\n",
      "Alpha scaling not found in config. Defaulting to alpha = 1.0\n",
      "Alpha scaling not found in config. Defaulting to alpha = 1.0\n",
      "Alpha scaling not found in config. Defaulting to alpha = 1.0\n",
      "Alpha scaling not found in config. Defaulting to alpha = 1.0\n",
      "Alpha scaling not found in config. Defaulting to alpha = 1.0\n",
      "Alpha scaling not found in config. Defaulting to alpha = 1.0\n",
      "Alpha scaling not found in config. Defaulting to alpha = 1.0\n",
      "Input: <e_13><r_8>\n",
      "Prediction: <e_13> <r_8> <e_178> </a>\n",
      "Alpha scaling not found in config. Defaulting to alpha = 1.0\n",
      "Alpha scaling not found in config. Defaulting to alpha = 1.0\n",
      "Alpha scaling not found in config. Defaulting to alpha = 1.0\n",
      "Alpha scaling not found in config. Defaulting to alpha = 1.0\n",
      "Alpha scaling not found in config. Defaulting to alpha = 1.0\n",
      "Alpha scaling not found in config. Defaulting to alpha = 1.0\n",
      "Alpha scaling not found in config. Defaulting to alpha = 1.0\n",
      "Alpha scaling not found in config. Defaulting to alpha = 1.0\n",
      "Input: <e_178><r_11>\n",
      "Prediction: <e_178> <r_11> <e_197> </a>\n"
     ]
    }
   ],
   "source": [
    "input_texts = [\"<e_13><r_8><r_11>\"]    # target <e_13><r_8><r_11><e_197>\n",
    "predict(model, tokenizer, input_texts, device, max_length=max_length, num_return_sequences=num_return_sequences)\n",
    "# it fail the inferred seen in the train\n",
    "\n",
    "# Lets see if it memorized the atomic fact in the inferred though\n",
    "print( \"\\n------------------**Let's see the atomic fact**:------------------\\n\")\n",
    "\n",
    "# 1st atomic \n",
    "input_texts = [\"<e_13><r_8>\"]    #<e_13><r_8><e_178> \n",
    "predict(model, tokenizer, input_texts, device, max_length=max_length, num_return_sequences=num_return_sequences)\n",
    "#2ns atomic\n",
    "input_texts = [\"<e_178><r_11>\"]    #<e_178><r_11><e_197>\n",
    "predict(model, tokenizer, input_texts, device, max_length=max_length, num_return_sequences=num_return_sequences)"
   ]
  },
  {
   "cell_type": "markdown",
   "metadata": {},
   "source": [
    "### Now let see if the model generalized on atimic seen only 2 times **case 1)**"
   ]
  },
  {
   "cell_type": "code",
   "execution_count": 36,
   "metadata": {},
   "outputs": [
    {
     "name": "stdout",
     "output_type": "stream",
     "text": [
      "Alpha scaling not found in config. Defaulting to alpha = 1.0\n",
      "Alpha scaling not found in config. Defaulting to alpha = 1.0\n",
      "Alpha scaling not found in config. Defaulting to alpha = 1.0\n",
      "Alpha scaling not found in config. Defaulting to alpha = 1.0\n",
      "Alpha scaling not found in config. Defaulting to alpha = 1.0\n",
      "Alpha scaling not found in config. Defaulting to alpha = 1.0\n",
      "Alpha scaling not found in config. Defaulting to alpha = 1.0\n",
      "Input: <e_1><r_8><r_2>\n",
      "Prediction: <e_1> <r_8> <r_2> <e_35> </a>\n",
      "Alpha scaling not found in config. Defaulting to alpha = 1.0\n",
      "Alpha scaling not found in config. Defaulting to alpha = 1.0\n",
      "Alpha scaling not found in config. Defaulting to alpha = 1.0\n",
      "Alpha scaling not found in config. Defaulting to alpha = 1.0\n",
      "Alpha scaling not found in config. Defaulting to alpha = 1.0\n",
      "Alpha scaling not found in config. Defaulting to alpha = 1.0\n",
      "Alpha scaling not found in config. Defaulting to alpha = 1.0\n",
      "Input: <e_1><r_8><r_2>\n",
      "Prediction: <e_1> <r_8> <r_2> <e_28> </a>\n",
      "Alpha scaling not found in config. Defaulting to alpha = 1.0\n",
      "Alpha scaling not found in config. Defaulting to alpha = 1.0\n",
      "Alpha scaling not found in config. Defaulting to alpha = 1.0\n",
      "Alpha scaling not found in config. Defaulting to alpha = 1.0\n",
      "Alpha scaling not found in config. Defaulting to alpha = 1.0\n",
      "Alpha scaling not found in config. Defaulting to alpha = 1.0\n",
      "Alpha scaling not found in config. Defaulting to alpha = 1.0\n",
      "Input: <e_1><r_8><r_18>\n",
      "Prediction: <e_1> <r_8> <r_18> <e_188> </a>\n"
     ]
    }
   ],
   "source": [
    "input_texts = [\"<e_1><r_8><r_2>\"]   #<e_1><r_8><r_2><e_72>\n",
    "predict(model, tokenizer, input_texts, device, max_length=max_length, num_return_sequences=num_return_sequences)\n",
    "\n",
    "input_texts = [\"<e_1><r_8><r_2>\"]  #<e_1><r_8><r_2><e_98>\n",
    "predict(model, tokenizer, input_texts, device, max_length=max_length, num_return_sequences=num_return_sequences)\n",
    "\n",
    "#<e_1><r_8><r_18><e_141\n",
    "input_texts = [\"<e_1><r_8><r_18>\"]  #<e_1><r_8><r_18><e_141\n",
    "predict(model, tokenizer, input_texts, device, max_length=max_length, num_return_sequences=num_return_sequences)"
   ]
  },
  {
   "cell_type": "markdown",
   "metadata": {},
   "source": [
    "From the experiment we can say that adding only 1 or 2 inferred example are not enough to let the model recognise this OOD as ID facts "
   ]
  },
  {
   "cell_type": "code",
   "execution_count": null,
   "metadata": {},
   "outputs": [],
   "source": []
  },
  {
   "cell_type": "code",
   "execution_count": null,
   "metadata": {},
   "outputs": [],
   "source": []
  },
  {
   "cell_type": "code",
   "execution_count": 37,
   "metadata": {},
   "outputs": [
    {
     "name": "stdout",
     "output_type": "stream",
     "text": [
      "Processing input: <e_1><r_8><r_2>\n",
      "Alpha scaling not found in config. Defaulting to alpha = 1.0\n",
      "Alpha scaling not found in config. Defaulting to alpha = 1.0\n",
      "Alpha scaling not found in config. Defaulting to alpha = 1.0\n",
      "Alpha scaling not found in config. Defaulting to alpha = 1.0\n",
      "Alpha scaling not found in config. Defaulting to alpha = 1.0\n",
      "Alpha scaling not found in config. Defaulting to alpha = 1.0\n",
      "Alpha scaling not found in config. Defaulting to alpha = 1.0\n",
      "Input: <e_1><r_8><r_2>\n",
      "Prediction: <e_1> <r_8> <r_2> <e_35> </a>\n"
     ]
    },
    {
     "ename": "TypeError",
     "evalue": "'NoneType' object is not iterable",
     "output_type": "error",
     "traceback": [
      "\u001b[0;31m---------------------------------------------------------------------------\u001b[0m",
      "\u001b[0;31mTypeError\u001b[0m                                 Traceback (most recent call last)",
      "Cell \u001b[0;32mIn[37], line 25\u001b[0m\n\u001b[1;32m     21\u001b[0m     \u001b[38;5;28;01mreturn\u001b[39;00m results\n\u001b[1;32m     24\u001b[0m \u001b[38;5;66;03m# Example usage\u001b[39;00m\n\u001b[0;32m---> 25\u001b[0m all_results \u001b[38;5;241m=\u001b[39m \u001b[43mrun_predictions\u001b[49m\u001b[43m(\u001b[49m\u001b[43mmodel\u001b[49m\u001b[43m,\u001b[49m\u001b[43m \u001b[49m\u001b[43mtokenizer\u001b[49m\u001b[43m,\u001b[49m\u001b[43m \u001b[49m\u001b[43mdevice\u001b[49m\u001b[43m,\u001b[49m\u001b[43m \u001b[49m\u001b[43mmax_length\u001b[49m\u001b[38;5;241;43m=\u001b[39;49m\u001b[38;5;241;43m10\u001b[39;49m\u001b[43m,\u001b[49m\u001b[43m \u001b[49m\u001b[43mnum_return_sequences\u001b[49m\u001b[38;5;241;43m=\u001b[39;49m\u001b[38;5;241;43m1\u001b[39;49m\u001b[43m)\u001b[49m\n\u001b[1;32m     27\u001b[0m \u001b[38;5;66;03m# Print collected last results\u001b[39;00m\n\u001b[1;32m     28\u001b[0m \u001b[38;5;28;01mfor\u001b[39;00m input_text, results \u001b[38;5;129;01min\u001b[39;00m all_results\u001b[38;5;241m.\u001b[39mitems():\n",
      "Cell \u001b[0;32mIn[37], line 15\u001b[0m, in \u001b[0;36mrun_predictions\u001b[0;34m(model, tokenizer, device, max_length, num_return_sequences, iterations)\u001b[0m\n\u001b[1;32m     12\u001b[0m outputs \u001b[38;5;241m=\u001b[39m predict(model, tokenizer, [input_text], device, max_length\u001b[38;5;241m=\u001b[39mmax_length, num_return_sequences\u001b[38;5;241m=\u001b[39mnum_return_sequences)\n\u001b[1;32m     14\u001b[0m \u001b[38;5;66;03m# Get the last token/output from each result\u001b[39;00m\n\u001b[0;32m---> 15\u001b[0m \u001b[38;5;28;01mfor\u001b[39;00m output \u001b[38;5;129;01min\u001b[39;00m outputs:\n\u001b[1;32m     16\u001b[0m     last_token \u001b[38;5;241m=\u001b[39m output\u001b[38;5;241m.\u001b[39mstrip()\u001b[38;5;241m.\u001b[39msplit(\u001b[38;5;124m\"\u001b[39m\u001b[38;5;124m>\u001b[39m\u001b[38;5;124m\"\u001b[39m)[\u001b[38;5;241m-\u001b[39m\u001b[38;5;241m1\u001b[39m] \u001b[38;5;241m+\u001b[39m \u001b[38;5;124m\"\u001b[39m\u001b[38;5;124m>\u001b[39m\u001b[38;5;124m\"\u001b[39m\n\u001b[1;32m     17\u001b[0m     last_results\u001b[38;5;241m.\u001b[39mappend(last_token)\n",
      "\u001b[0;31mTypeError\u001b[0m: 'NoneType' object is not iterable"
     ]
    }
   ],
   "source": [
    "def run_predictions(model, tokenizer, device, max_length, num_return_sequences, iterations=100):\n",
    "    input_texts_list = [\n",
    "        \"<e_1><r_8><r_2>\",   # Example 1\n",
    "        \"<e_1><r_8><r_18>\",  # Example 2\n",
    "    ]\n",
    "\n",
    "    results = {}  # To store results for each input_text\n",
    "    for input_text in input_texts_list:\n",
    "        print(f\"Processing input: {input_text}\")\n",
    "        last_results = []  # To store the last token/output from each iteration\n",
    "        for _ in range(iterations):\n",
    "            outputs = predict(model, tokenizer, [input_text], device, max_length=max_length, num_return_sequences=num_return_sequences)\n",
    "            \n",
    "            # Get the last token/output from each result\n",
    "            for output in outputs:\n",
    "                last_token = output.strip().split(\">\")[-1] + \">\"\n",
    "                last_results.append(last_token)\n",
    "\n",
    "        results[input_text] = last_results\n",
    "    \n",
    "    return results\n",
    "\n",
    "\n",
    "# Example usage\n",
    "all_results = run_predictions(model, tokenizer, device, max_length=10, num_return_sequences=1)\n",
    "\n",
    "# Print collected last results\n",
    "for input_text, results in all_results.items():\n",
    "    print(f\"Input: {input_text}\")\n",
    "    print(f\"Last results: {results}\")\n"
   ]
  },
  {
   "cell_type": "code",
   "execution_count": null,
   "metadata": {},
   "outputs": [],
   "source": []
  },
  {
   "cell_type": "code",
   "execution_count": null,
   "metadata": {},
   "outputs": [],
   "source": [
    "#\"<e_0><r_14><r_6>\"  # is in training , it get it correct out\n",
    "#\"<e_0><r_14><r_3><e_100></a>\"   # also in traning\n",
    "# # IT GET IT CORRECTLY\n",
    "#\"<e_2><r_6><r_7><e_89></a>\"  # is in training and it get correct (only e_2 seen)\n",
    "\n",
    "\n",
    "\n",
    "#<e_2><r_6><r_16><e_137></a>   FAIL"
   ]
  },
  {
   "cell_type": "code",
   "execution_count": null,
   "metadata": {},
   "outputs": [],
   "source": []
  },
  {
   "cell_type": "markdown",
   "metadata": {},
   "source": [
    "# t-SNE"
   ]
  },
  {
   "cell_type": "code",
   "execution_count": null,
   "metadata": {},
   "outputs": [
    {
     "name": "stdout",
     "output_type": "stream",
     "text": [
      "2.2.1\n"
     ]
    }
   ],
   "source": [
    "import numpy as np\n",
    "from transformers import GPT2Tokenizer, GPT2Model\n",
    "from transformers import GPT2Config, GPT2LMHeadModel, GPT2Tokenizer\n",
    "import torch\n",
    "from sklearn.manifold import TSNE\n",
    "import matplotlib.pyplot as plt\n",
    "from PIL import Image\n",
    "import numpy as np"
   ]
  },
  {
   "cell_type": "code",
   "execution_count": 42,
   "metadata": {},
   "outputs": [],
   "source": [
    "# Create a sample array\n",
    "sample_array = np.array([1, 2, 3, 4, 5])"
   ]
  },
  {
   "cell_type": "code",
   "execution_count": 50,
   "metadata": {},
   "outputs": [],
   "source": [
    "\n",
    "\n",
    "\n",
    "dataset = \"/home/s220331/GROK/Thesis/data/composition.2000.200.12.6/\"\n",
    "#\"/home/s220331/GROK/Thesis/data/composition_SMALL.200.20.12.6\"\n",
    "\n",
    "model_path = \"/dtu-compute/s220331/composition/outputs_BIG_new/checkpoint-1500000/\"\n",
    "#/scratch/davide/model_paper/outputs_SMALL/checkpoint-1500000/\" # model normal on small dataset wuth chosen checkpoints!\n",
    "\n",
    "target_layer = 8\n",
    "#dataset = \"/home/s220331/GROK/Thesis/data/composition_SMALL.200.20.12.6\"\n",
    "#model_path = \"/scratch/davide/model_paper/outputs_SMALL/checkpoint-1500000/\" # model normal on small dataset wuth chosen checkpoints!\n"
   ]
  },
  {
   "cell_type": "code",
   "execution_count": 51,
   "metadata": {},
   "outputs": [],
   "source": [
    "# model set up\n",
    "#device = torch.device('cuda:5')\n",
    "device = setup_device()\n",
    "model = GPT2LMHeadModel.from_pretrained(model_path).to(device)\n",
    "word_embedding = model.lm_head.weight.data\n",
    "tokenizer = GPT2Tokenizer.from_pretrained(model_path, output_hidden_states=True)\n",
    "tokenizer.padding_side = \"left\" \n",
    "tokenizer.pad_token = tokenizer.eos_token\n",
    "tokenizer.pad_token_id = tokenizer.eos_token_id\n",
    "model.config.pad_token_id = model.config.eos_token_id"
   ]
  },
  {
   "cell_type": "code",
   "execution_count": null,
   "metadata": {},
   "outputs": [
    {
     "name": "stdout",
     "output_type": "stream",
     "text": [
      "Alpha scaling not found in config. Defaulting to alpha = 1.0\n",
      "Alpha scaling not found in config. Defaulting to alpha = 1.0\n",
      "Alpha scaling not found in config. Defaulting to alpha = 1.0\n",
      "Alpha scaling not found in config. Defaulting to alpha = 1.0\n"
     ]
    }
   ],
   "source": [
    "# Create a sample array\n",
    "sample_array = np.array([1, 2, 3, 4, 5])# maybe not needed\n",
    "\n",
    "#here we show that actually hidden states change from layer 0 to layer chosen (now le last but is too obious)\n",
    "# List of inputs\n",
    "inputs_list = [\"<e_1>\", \"<e_2>\", \"<e_3>\", \"<e_4>\"]\n",
    "\n",
    "# Store representations\n",
    "first_layer_reps = []\n",
    "last_layer_reps = []\n",
    "\n",
    "for text in inputs_list:\n",
    "    # Tokenize input\n",
    "    inputs = tokenizer(text, return_tensors=\"pt\")\n",
    "    input_ids = inputs[\"input_ids\"]\n",
    "    \n",
    "    # Forward pass\n",
    "\n",
    "    with torch.no_grad():\n",
    "    # here the same model but with different input !! \n",
    "        outputs = model(\n",
    "        input_ids=input_ids,\n",
    "        output_hidden_states=True\n",
    "    )\n",
    "\n",
    "\n",
    "    # Extract hidden states\n",
    "    hidden_states = outputs.hidden_states\n",
    "    #print( hidden_states)\n",
    "    token_position = 0  # 'B' is at position 0 in each input\n",
    "    first_layer_reps.append(hidden_states[0][0, token_position].tolist())\n",
    "    last_layer_reps.append(hidden_states[-1][0, token_position].tolist())\n"
   ]
  },
  {
   "cell_type": "code",
   "execution_count": 53,
   "metadata": {},
   "outputs": [],
   "source": [
    "\n",
    "\n",
    "# Combine first and last layer representations\n",
    "all_representations = np.vstack([first_layer_reps, last_layer_reps])\n",
    "\n",
    "# Create labels: \"B_first\", \"B_last\", etc.\n",
    "labels = [f\"{text}_first\" for text in inputs_list] + [f\"{text}_last\" for text in inputs_list]\n"
   ]
  },
  {
   "cell_type": "code",
   "execution_count": 54,
   "metadata": {},
   "outputs": [
    {
     "name": "stdout",
     "output_type": "stream",
     "text": [
      "(8, 768)\n"
     ]
    }
   ],
   "source": [
    "print( all_representations.shape )"
   ]
  },
  {
   "cell_type": "code",
   "execution_count": 55,
   "metadata": {},
   "outputs": [
    {
     "data": {
      "image/png": "[encoded data removed]",
      "text/plain": [
       "<Figure size 1000x600 with 1 Axes>"
      ]
     },
     "metadata": {},
     "output_type": "display_data"
    }
   ],
   "source": [
    "\n",
    "\n",
    "perplexity = 2# min(30, n_samples - 1)  # Set perplexity to a value less than the number of samples\n",
    "# Perform t-SNE\n",
    "tsne = TSNE(n_components=2,  perplexity=perplexity,random_state=42)\n",
    "reduced_embeddings = tsne.fit_transform(all_representations)\n",
    "\n",
    "# Plot the results\n",
    "plt.figure(figsize=(10, 6))\n",
    "for i, label in enumerate(labels):\n",
    "    x, y = reduced_embeddings[i]\n",
    "    plt.scatter(x, y, label=label)\n",
    "    plt.text(x + 0.2, y + 0.2, label, fontsize=9)\n",
    "\n",
    "plt.title(\"t-SNE Visualization of Token Representations\")\n",
    "plt.xlabel(\"t-SNE Dimension 1\")\n",
    "plt.ylabel(\"t-SNE Dimension 2\")\n",
    "plt.legend(bbox_to_anchor=(1.05, 1), loc='upper left')\n",
    "plt.tight_layout()\n",
    "plt.show()\n"
   ]
  },
  {
   "cell_type": "code",
   "execution_count": null,
   "metadata": {},
   "outputs": [],
   "source": []
  }
 ],
 "metadata": {
  "kernelspec": {
   "display_name": "env",
   "language": "python",
   "name": "python3"
  },
  "language_info": {
   "codemirror_mode": {
    "name": "ipython",
    "version": 3
   },
   "file_extension": ".py",
   "mimetype": "text/x-python",
   "name": "python",
   "nbconvert_exporter": "python",
   "pygments_lexer": "ipython3",
   "version": "3.10.15"
  }
 },
 "nbformat": 4,
 "nbformat_minor": 2
}
